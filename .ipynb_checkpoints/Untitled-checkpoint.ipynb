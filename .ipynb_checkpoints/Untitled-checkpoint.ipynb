{
 "cells": [
  {
   "cell_type": "code",
   "execution_count": 1,
   "id": "5793f0d9-a396-46e7-9ea0-b523b59ba776",
   "metadata": {},
   "outputs": [],
   "source": [
    "import pandas as pd\n",
    "import numpy as  np\n",
    "import matplotlib.pyplot as plt\n",
    "from sklearn import metrics\n",
    "%matplotlib inline\n",
    "import yfinance as yf"
   ]
  },
  {
   "cell_type": "code",
   "execution_count": 2,
   "id": "ec08e4c0-b2f6-4952-8dfb-4f370fe63cc6",
   "metadata": {},
   "outputs": [],
   "source": [
    "# pip install nsepython\n",
    "#pip install nsepy"
   ]
  },
  {
   "cell_type": "code",
   "execution_count": 3,
   "id": "dde0f46b-f571-4c2d-bdfa-79892b3f8ca7",
   "metadata": {},
   "outputs": [
    {
     "name": "stderr",
     "output_type": "stream",
     "text": [
      "[*********************100%%**********************]  1 of 1 completed\n"
     ]
    }
   ],
   "source": [
    "df = yf.download(\"F\")"
   ]
  },
  {
   "cell_type": "code",
   "execution_count": 4,
   "id": "732d894f-8288-433c-b23e-f5b704fa09b2",
   "metadata": {},
   "outputs": [
    {
     "data": {
      "text/html": [
       "<div>\n",
       "<style scoped>\n",
       "    .dataframe tbody tr th:only-of-type {\n",
       "        vertical-align: middle;\n",
       "    }\n",
       "\n",
       "    .dataframe tbody tr th {\n",
       "        vertical-align: top;\n",
       "    }\n",
       "\n",
       "    .dataframe thead th {\n",
       "        text-align: right;\n",
       "    }\n",
       "</style>\n",
       "<table border=\"1\" class=\"dataframe\">\n",
       "  <thead>\n",
       "    <tr style=\"text-align: right;\">\n",
       "      <th></th>\n",
       "      <th>Open</th>\n",
       "      <th>High</th>\n",
       "      <th>Low</th>\n",
       "      <th>Close</th>\n",
       "      <th>Adj Close</th>\n",
       "      <th>Volume</th>\n",
       "    </tr>\n",
       "    <tr>\n",
       "      <th>Date</th>\n",
       "      <th></th>\n",
       "      <th></th>\n",
       "      <th></th>\n",
       "      <th></th>\n",
       "      <th></th>\n",
       "      <th></th>\n",
       "    </tr>\n",
       "  </thead>\n",
       "  <tbody>\n",
       "    <tr>\n",
       "      <th>2024-04-01</th>\n",
       "      <td>13.33</td>\n",
       "      <td>13.380</td>\n",
       "      <td>13.14</td>\n",
       "      <td>13.29</td>\n",
       "      <td>13.29</td>\n",
       "      <td>35898300</td>\n",
       "    </tr>\n",
       "    <tr>\n",
       "      <th>2024-04-02</th>\n",
       "      <td>13.16</td>\n",
       "      <td>13.370</td>\n",
       "      <td>13.09</td>\n",
       "      <td>13.28</td>\n",
       "      <td>13.28</td>\n",
       "      <td>42653400</td>\n",
       "    </tr>\n",
       "    <tr>\n",
       "      <th>2024-04-03</th>\n",
       "      <td>13.25</td>\n",
       "      <td>13.680</td>\n",
       "      <td>13.23</td>\n",
       "      <td>13.65</td>\n",
       "      <td>13.65</td>\n",
       "      <td>57294500</td>\n",
       "    </tr>\n",
       "    <tr>\n",
       "      <th>2024-04-04</th>\n",
       "      <td>13.90</td>\n",
       "      <td>13.950</td>\n",
       "      <td>13.17</td>\n",
       "      <td>13.21</td>\n",
       "      <td>13.21</td>\n",
       "      <td>67812400</td>\n",
       "    </tr>\n",
       "    <tr>\n",
       "      <th>2024-04-05</th>\n",
       "      <td>13.27</td>\n",
       "      <td>13.395</td>\n",
       "      <td>13.09</td>\n",
       "      <td>13.28</td>\n",
       "      <td>13.28</td>\n",
       "      <td>46836887</td>\n",
       "    </tr>\n",
       "  </tbody>\n",
       "</table>\n",
       "</div>"
      ],
      "text/plain": [
       "             Open    High    Low  Close  Adj Close    Volume\n",
       "Date                                                        \n",
       "2024-04-01  13.33  13.380  13.14  13.29      13.29  35898300\n",
       "2024-04-02  13.16  13.370  13.09  13.28      13.28  42653400\n",
       "2024-04-03  13.25  13.680  13.23  13.65      13.65  57294500\n",
       "2024-04-04  13.90  13.950  13.17  13.21      13.21  67812400\n",
       "2024-04-05  13.27  13.395  13.09  13.28      13.28  46836887"
      ]
     },
     "execution_count": 4,
     "metadata": {},
     "output_type": "execute_result"
    }
   ],
   "source": [
    "df.tail()"
   ]
  },
  {
   "cell_type": "code",
   "execution_count": 5,
   "id": "95c65ee6-d627-40f9-be2f-222575828a14",
   "metadata": {},
   "outputs": [
    {
     "data": {
      "text/html": [
       "<div>\n",
       "<style scoped>\n",
       "    .dataframe tbody tr th:only-of-type {\n",
       "        vertical-align: middle;\n",
       "    }\n",
       "\n",
       "    .dataframe tbody tr th {\n",
       "        vertical-align: top;\n",
       "    }\n",
       "\n",
       "    .dataframe thead th {\n",
       "        text-align: right;\n",
       "    }\n",
       "</style>\n",
       "<table border=\"1\" class=\"dataframe\">\n",
       "  <thead>\n",
       "    <tr style=\"text-align: right;\">\n",
       "      <th></th>\n",
       "      <th>Open</th>\n",
       "      <th>High</th>\n",
       "      <th>Low</th>\n",
       "      <th>Close</th>\n",
       "      <th>Adj Close</th>\n",
       "      <th>Volume</th>\n",
       "      <th>prev_close</th>\n",
       "    </tr>\n",
       "    <tr>\n",
       "      <th>Date</th>\n",
       "      <th></th>\n",
       "      <th></th>\n",
       "      <th></th>\n",
       "      <th></th>\n",
       "      <th></th>\n",
       "      <th></th>\n",
       "      <th></th>\n",
       "    </tr>\n",
       "  </thead>\n",
       "  <tbody>\n",
       "    <tr>\n",
       "      <th>1972-06-01</th>\n",
       "      <td>0.000000</td>\n",
       "      <td>2.173495</td>\n",
       "      <td>2.149165</td>\n",
       "      <td>2.153220</td>\n",
       "      <td>0.235547</td>\n",
       "      <td>1091238</td>\n",
       "      <td>NaN</td>\n",
       "    </tr>\n",
       "    <tr>\n",
       "      <th>1972-06-02</th>\n",
       "      <td>2.153220</td>\n",
       "      <td>2.173495</td>\n",
       "      <td>2.141055</td>\n",
       "      <td>2.149165</td>\n",
       "      <td>0.235103</td>\n",
       "      <td>1174468</td>\n",
       "      <td>2.153220</td>\n",
       "    </tr>\n",
       "    <tr>\n",
       "      <th>1972-06-05</th>\n",
       "      <td>2.149165</td>\n",
       "      <td>2.169440</td>\n",
       "      <td>2.141055</td>\n",
       "      <td>2.149165</td>\n",
       "      <td>0.235103</td>\n",
       "      <td>5209582</td>\n",
       "      <td>2.149165</td>\n",
       "    </tr>\n",
       "    <tr>\n",
       "      <th>1972-06-06</th>\n",
       "      <td>2.149165</td>\n",
       "      <td>2.157275</td>\n",
       "      <td>2.116725</td>\n",
       "      <td>2.124835</td>\n",
       "      <td>0.232441</td>\n",
       "      <td>1424158</td>\n",
       "      <td>2.149165</td>\n",
       "    </tr>\n",
       "    <tr>\n",
       "      <th>1972-06-07</th>\n",
       "      <td>2.124835</td>\n",
       "      <td>2.137000</td>\n",
       "      <td>2.112670</td>\n",
       "      <td>2.112670</td>\n",
       "      <td>0.231111</td>\n",
       "      <td>675088</td>\n",
       "      <td>2.124835</td>\n",
       "    </tr>\n",
       "  </tbody>\n",
       "</table>\n",
       "</div>"
      ],
      "text/plain": [
       "                Open      High       Low     Close  Adj Close   Volume  \\\n",
       "Date                                                                     \n",
       "1972-06-01  0.000000  2.173495  2.149165  2.153220   0.235547  1091238   \n",
       "1972-06-02  2.153220  2.173495  2.141055  2.149165   0.235103  1174468   \n",
       "1972-06-05  2.149165  2.169440  2.141055  2.149165   0.235103  5209582   \n",
       "1972-06-06  2.149165  2.157275  2.116725  2.124835   0.232441  1424158   \n",
       "1972-06-07  2.124835  2.137000  2.112670  2.112670   0.231111   675088   \n",
       "\n",
       "            prev_close  \n",
       "Date                    \n",
       "1972-06-01         NaN  \n",
       "1972-06-02    2.153220  \n",
       "1972-06-05    2.149165  \n",
       "1972-06-06    2.149165  \n",
       "1972-06-07    2.124835  "
      ]
     },
     "execution_count": 5,
     "metadata": {},
     "output_type": "execute_result"
    }
   ],
   "source": [
    "series_shifted = df['Close'].shift()\n",
    "df['prev_close']=series_shifted\n",
    "df.head()"
   ]
  },
  {
   "cell_type": "code",
   "execution_count": 6,
   "id": "371fbe96-f861-4492-b14f-a16e44765a6e",
   "metadata": {},
   "outputs": [],
   "source": [
    "# #time format\n",
    "# df['Date']=pd.to_datetime(df.Date)\n",
    "# df.head()"
   ]
  },
  {
   "cell_type": "code",
   "execution_count": 7,
   "id": "c453b9e7-406c-4b0e-ab64-3cd4cb4645ef",
   "metadata": {},
   "outputs": [
    {
     "data": {
      "text/plain": [
       "(13073, 7)"
      ]
     },
     "execution_count": 7,
     "metadata": {},
     "output_type": "execute_result"
    }
   ],
   "source": [
    "df.shape"
   ]
  },
  {
   "cell_type": "code",
   "execution_count": 8,
   "id": "2d8fd7df-68ab-497c-894a-7d43892da145",
   "metadata": {},
   "outputs": [
    {
     "data": {
      "text/plain": [
       "Open          0\n",
       "High          0\n",
       "Low           0\n",
       "Close         0\n",
       "Adj Close     0\n",
       "Volume        0\n",
       "prev_close    1\n",
       "dtype: int64"
      ]
     },
     "execution_count": 8,
     "metadata": {},
     "output_type": "execute_result"
    }
   ],
   "source": [
    "# null\n",
    "df.isnull().sum()"
   ]
  },
  {
   "cell_type": "code",
   "execution_count": 9,
   "id": "471ee927-37d9-44a1-88b3-0904d693fbe7",
   "metadata": {},
   "outputs": [
    {
     "data": {
      "text/html": [
       "<div>\n",
       "<style scoped>\n",
       "    .dataframe tbody tr th:only-of-type {\n",
       "        vertical-align: middle;\n",
       "    }\n",
       "\n",
       "    .dataframe tbody tr th {\n",
       "        vertical-align: top;\n",
       "    }\n",
       "\n",
       "    .dataframe thead th {\n",
       "        text-align: right;\n",
       "    }\n",
       "</style>\n",
       "<table border=\"1\" class=\"dataframe\">\n",
       "  <thead>\n",
       "    <tr style=\"text-align: right;\">\n",
       "      <th></th>\n",
       "      <th>Open</th>\n",
       "      <th>High</th>\n",
       "      <th>Low</th>\n",
       "      <th>Close</th>\n",
       "      <th>Adj Close</th>\n",
       "      <th>Volume</th>\n",
       "      <th>prev_close</th>\n",
       "    </tr>\n",
       "    <tr>\n",
       "      <th>Date</th>\n",
       "      <th></th>\n",
       "      <th></th>\n",
       "      <th></th>\n",
       "      <th></th>\n",
       "      <th></th>\n",
       "      <th></th>\n",
       "      <th></th>\n",
       "    </tr>\n",
       "  </thead>\n",
       "  <tbody>\n",
       "    <tr>\n",
       "      <th>1972-06-02</th>\n",
       "      <td>2.153220</td>\n",
       "      <td>2.173495</td>\n",
       "      <td>2.141055</td>\n",
       "      <td>2.149165</td>\n",
       "      <td>0.235103</td>\n",
       "      <td>1174468</td>\n",
       "      <td>2.153220</td>\n",
       "    </tr>\n",
       "    <tr>\n",
       "      <th>1972-06-05</th>\n",
       "      <td>2.149165</td>\n",
       "      <td>2.169440</td>\n",
       "      <td>2.141055</td>\n",
       "      <td>2.149165</td>\n",
       "      <td>0.235103</td>\n",
       "      <td>5209582</td>\n",
       "      <td>2.149165</td>\n",
       "    </tr>\n",
       "    <tr>\n",
       "      <th>1972-06-06</th>\n",
       "      <td>2.149165</td>\n",
       "      <td>2.157275</td>\n",
       "      <td>2.116725</td>\n",
       "      <td>2.124835</td>\n",
       "      <td>0.232441</td>\n",
       "      <td>1424158</td>\n",
       "      <td>2.149165</td>\n",
       "    </tr>\n",
       "    <tr>\n",
       "      <th>1972-06-07</th>\n",
       "      <td>2.124835</td>\n",
       "      <td>2.137000</td>\n",
       "      <td>2.112670</td>\n",
       "      <td>2.112670</td>\n",
       "      <td>0.231111</td>\n",
       "      <td>675088</td>\n",
       "      <td>2.124835</td>\n",
       "    </tr>\n",
       "    <tr>\n",
       "      <th>1972-06-08</th>\n",
       "      <td>2.112670</td>\n",
       "      <td>2.128890</td>\n",
       "      <td>2.096449</td>\n",
       "      <td>2.096449</td>\n",
       "      <td>0.229336</td>\n",
       "      <td>1038834</td>\n",
       "      <td>2.112670</td>\n",
       "    </tr>\n",
       "    <tr>\n",
       "      <th>...</th>\n",
       "      <td>...</td>\n",
       "      <td>...</td>\n",
       "      <td>...</td>\n",
       "      <td>...</td>\n",
       "      <td>...</td>\n",
       "      <td>...</td>\n",
       "      <td>...</td>\n",
       "    </tr>\n",
       "    <tr>\n",
       "      <th>2024-04-01</th>\n",
       "      <td>13.330000</td>\n",
       "      <td>13.380000</td>\n",
       "      <td>13.140000</td>\n",
       "      <td>13.290000</td>\n",
       "      <td>13.290000</td>\n",
       "      <td>35898300</td>\n",
       "      <td>13.280000</td>\n",
       "    </tr>\n",
       "    <tr>\n",
       "      <th>2024-04-02</th>\n",
       "      <td>13.160000</td>\n",
       "      <td>13.370000</td>\n",
       "      <td>13.090000</td>\n",
       "      <td>13.280000</td>\n",
       "      <td>13.280000</td>\n",
       "      <td>42653400</td>\n",
       "      <td>13.290000</td>\n",
       "    </tr>\n",
       "    <tr>\n",
       "      <th>2024-04-03</th>\n",
       "      <td>13.250000</td>\n",
       "      <td>13.680000</td>\n",
       "      <td>13.230000</td>\n",
       "      <td>13.650000</td>\n",
       "      <td>13.650000</td>\n",
       "      <td>57294500</td>\n",
       "      <td>13.280000</td>\n",
       "    </tr>\n",
       "    <tr>\n",
       "      <th>2024-04-04</th>\n",
       "      <td>13.900000</td>\n",
       "      <td>13.950000</td>\n",
       "      <td>13.170000</td>\n",
       "      <td>13.210000</td>\n",
       "      <td>13.210000</td>\n",
       "      <td>67812400</td>\n",
       "      <td>13.650000</td>\n",
       "    </tr>\n",
       "    <tr>\n",
       "      <th>2024-04-05</th>\n",
       "      <td>13.270000</td>\n",
       "      <td>13.395000</td>\n",
       "      <td>13.090000</td>\n",
       "      <td>13.280000</td>\n",
       "      <td>13.280000</td>\n",
       "      <td>46836887</td>\n",
       "      <td>13.210000</td>\n",
       "    </tr>\n",
       "  </tbody>\n",
       "</table>\n",
       "<p>13072 rows × 7 columns</p>\n",
       "</div>"
      ],
      "text/plain": [
       "                 Open       High        Low      Close  Adj Close    Volume  \\\n",
       "Date                                                                          \n",
       "1972-06-02   2.153220   2.173495   2.141055   2.149165   0.235103   1174468   \n",
       "1972-06-05   2.149165   2.169440   2.141055   2.149165   0.235103   5209582   \n",
       "1972-06-06   2.149165   2.157275   2.116725   2.124835   0.232441   1424158   \n",
       "1972-06-07   2.124835   2.137000   2.112670   2.112670   0.231111    675088   \n",
       "1972-06-08   2.112670   2.128890   2.096449   2.096449   0.229336   1038834   \n",
       "...               ...        ...        ...        ...        ...       ...   \n",
       "2024-04-01  13.330000  13.380000  13.140000  13.290000  13.290000  35898300   \n",
       "2024-04-02  13.160000  13.370000  13.090000  13.280000  13.280000  42653400   \n",
       "2024-04-03  13.250000  13.680000  13.230000  13.650000  13.650000  57294500   \n",
       "2024-04-04  13.900000  13.950000  13.170000  13.210000  13.210000  67812400   \n",
       "2024-04-05  13.270000  13.395000  13.090000  13.280000  13.280000  46836887   \n",
       "\n",
       "            prev_close  \n",
       "Date                    \n",
       "1972-06-02    2.153220  \n",
       "1972-06-05    2.149165  \n",
       "1972-06-06    2.149165  \n",
       "1972-06-07    2.124835  \n",
       "1972-06-08    2.112670  \n",
       "...                ...  \n",
       "2024-04-01   13.280000  \n",
       "2024-04-02   13.290000  \n",
       "2024-04-03   13.280000  \n",
       "2024-04-04   13.650000  \n",
       "2024-04-05   13.210000  \n",
       "\n",
       "[13072 rows x 7 columns]"
      ]
     },
     "execution_count": 9,
     "metadata": {},
     "output_type": "execute_result"
    }
   ],
   "source": [
    "# drop\n",
    "df.dropna(inplace=True)\n",
    "df"
   ]
  },
  {
   "cell_type": "code",
   "execution_count": 10,
   "id": "ff061002-7976-4406-9be7-fdddb54d3391",
   "metadata": {},
   "outputs": [
    {
     "name": "stdout",
     "output_type": "stream",
     "text": [
      "<class 'pandas.core.frame.DataFrame'>\n",
      "DatetimeIndex: 13072 entries, 1972-06-02 to 2024-04-05\n",
      "Data columns (total 7 columns):\n",
      " #   Column      Non-Null Count  Dtype  \n",
      "---  ------      --------------  -----  \n",
      " 0   Open        13072 non-null  float64\n",
      " 1   High        13072 non-null  float64\n",
      " 2   Low         13072 non-null  float64\n",
      " 3   Close       13072 non-null  float64\n",
      " 4   Adj Close   13072 non-null  float64\n",
      " 5   Volume      13072 non-null  int64  \n",
      " 6   prev_close  13072 non-null  float64\n",
      "dtypes: float64(6), int64(1)\n",
      "memory usage: 817.0 KB\n"
     ]
    }
   ],
   "source": [
    "df.info()"
   ]
  },
  {
   "cell_type": "code",
   "execution_count": 11,
   "id": "5952fb2f-4aa4-428a-a632-d477845a841b",
   "metadata": {},
   "outputs": [
    {
     "data": {
      "text/html": [
       "<div>\n",
       "<style scoped>\n",
       "    .dataframe tbody tr th:only-of-type {\n",
       "        vertical-align: middle;\n",
       "    }\n",
       "\n",
       "    .dataframe tbody tr th {\n",
       "        vertical-align: top;\n",
       "    }\n",
       "\n",
       "    .dataframe thead th {\n",
       "        text-align: right;\n",
       "    }\n",
       "</style>\n",
       "<table border=\"1\" class=\"dataframe\">\n",
       "  <thead>\n",
       "    <tr style=\"text-align: right;\">\n",
       "      <th></th>\n",
       "      <th>Open</th>\n",
       "      <th>High</th>\n",
       "      <th>Low</th>\n",
       "      <th>Close</th>\n",
       "      <th>Adj Close</th>\n",
       "      <th>Volume</th>\n",
       "      <th>prev_close</th>\n",
       "    </tr>\n",
       "  </thead>\n",
       "  <tbody>\n",
       "    <tr>\n",
       "      <th>count</th>\n",
       "      <td>13072.000000</td>\n",
       "      <td>13072.000000</td>\n",
       "      <td>13072.000000</td>\n",
       "      <td>13072.000000</td>\n",
       "      <td>13072.000000</td>\n",
       "      <td>1.307200e+04</td>\n",
       "      <td>13072.000000</td>\n",
       "    </tr>\n",
       "    <tr>\n",
       "      <th>mean</th>\n",
       "      <td>9.493424</td>\n",
       "      <td>9.615514</td>\n",
       "      <td>9.361558</td>\n",
       "      <td>9.487388</td>\n",
       "      <td>4.941088</td>\n",
       "      <td>2.350959e+07</td>\n",
       "      <td>9.486537</td>\n",
       "    </tr>\n",
       "    <tr>\n",
       "      <th>std</th>\n",
       "      <td>6.989451</td>\n",
       "      <td>7.089965</td>\n",
       "      <td>6.890116</td>\n",
       "      <td>6.986992</td>\n",
       "      <td>4.179197</td>\n",
       "      <td>3.163582e+07</td>\n",
       "      <td>6.987208</td>\n",
       "    </tr>\n",
       "    <tr>\n",
       "      <th>min</th>\n",
       "      <td>0.643736</td>\n",
       "      <td>0.648804</td>\n",
       "      <td>0.638667</td>\n",
       "      <td>0.643736</td>\n",
       "      <td>0.120460</td>\n",
       "      <td>2.990110e+05</td>\n",
       "      <td>0.643736</td>\n",
       "    </tr>\n",
       "    <tr>\n",
       "      <th>25%</th>\n",
       "      <td>2.691525</td>\n",
       "      <td>2.714334</td>\n",
       "      <td>2.653509</td>\n",
       "      <td>2.686456</td>\n",
       "      <td>0.624896</td>\n",
       "      <td>4.493187e+06</td>\n",
       "      <td>2.685822</td>\n",
       "    </tr>\n",
       "    <tr>\n",
       "      <th>50%</th>\n",
       "      <td>9.160000</td>\n",
       "      <td>9.260670</td>\n",
       "      <td>9.065000</td>\n",
       "      <td>9.160000</td>\n",
       "      <td>4.253787</td>\n",
       "      <td>9.453284e+06</td>\n",
       "      <td>9.160000</td>\n",
       "    </tr>\n",
       "    <tr>\n",
       "      <th>75%</th>\n",
       "      <td>12.710000</td>\n",
       "      <td>12.850000</td>\n",
       "      <td>12.522500</td>\n",
       "      <td>12.700000</td>\n",
       "      <td>8.028682</td>\n",
       "      <td>3.377725e+07</td>\n",
       "      <td>12.700000</td>\n",
       "    </tr>\n",
       "    <tr>\n",
       "      <th>max</th>\n",
       "      <td>36.819485</td>\n",
       "      <td>37.300335</td>\n",
       "      <td>35.720394</td>\n",
       "      <td>36.647751</td>\n",
       "      <td>21.496588</td>\n",
       "      <td>5.411756e+08</td>\n",
       "      <td>36.647751</td>\n",
       "    </tr>\n",
       "  </tbody>\n",
       "</table>\n",
       "</div>"
      ],
      "text/plain": [
       "               Open          High           Low         Close     Adj Close  \\\n",
       "count  13072.000000  13072.000000  13072.000000  13072.000000  13072.000000   \n",
       "mean       9.493424      9.615514      9.361558      9.487388      4.941088   \n",
       "std        6.989451      7.089965      6.890116      6.986992      4.179197   \n",
       "min        0.643736      0.648804      0.638667      0.643736      0.120460   \n",
       "25%        2.691525      2.714334      2.653509      2.686456      0.624896   \n",
       "50%        9.160000      9.260670      9.065000      9.160000      4.253787   \n",
       "75%       12.710000     12.850000     12.522500     12.700000      8.028682   \n",
       "max       36.819485     37.300335     35.720394     36.647751     21.496588   \n",
       "\n",
       "             Volume    prev_close  \n",
       "count  1.307200e+04  13072.000000  \n",
       "mean   2.350959e+07      9.486537  \n",
       "std    3.163582e+07      6.987208  \n",
       "min    2.990110e+05      0.643736  \n",
       "25%    4.493187e+06      2.685822  \n",
       "50%    9.453284e+06      9.160000  \n",
       "75%    3.377725e+07     12.700000  \n",
       "max    5.411756e+08     36.647751  "
      ]
     },
     "execution_count": 11,
     "metadata": {},
     "output_type": "execute_result"
    }
   ],
   "source": [
    "df.describe()"
   ]
  },
  {
   "cell_type": "code",
   "execution_count": 12,
   "id": "d9096d4b-b0b8-4f87-91b6-9d3a42bd102d",
   "metadata": {},
   "outputs": [
    {
     "data": {
      "text/plain": [
       "<Axes: xlabel='Date'>"
      ]
     },
     "execution_count": 12,
     "metadata": {},
     "output_type": "execute_result"
    },
    {
     "data": {
      "image/png": "[encoded data removed]",
      "text/plain": [
       "<Figure size 1000x800 with 1 Axes>"
      ]
     },
     "metadata": {},
     "output_type": "display_data"
    }
   ],
   "source": [
    "# plt close prices\n",
    "df['Close'].plot(figsize=(10,8))"
   ]
  },
  {
   "cell_type": "code",
   "execution_count": 13,
   "id": "affdfa80-ff38-4070-92d7-6012a5887cd5",
   "metadata": {},
   "outputs": [],
   "source": [
    "# x and y\n",
    "x= df[['Open','prev_close','High','Low']]\n",
    "y=df['Close']"
   ]
  },
  {
   "cell_type": "code",
   "execution_count": 14,
   "id": "a9f36c5e-8a1e-4c7b-9fbd-3493279cdf1d",
   "metadata": {},
   "outputs": [],
   "source": [
    "from sklearn.model_selection import train_test_split\n",
    "x_train,x_test,y_train,y_test = train_test_split(x,y,random_state=0)\n"
   ]
  },
  {
   "cell_type": "code",
   "execution_count": 15,
   "id": "f9049a05-b7a7-4504-96cb-4e62b2360003",
   "metadata": {},
   "outputs": [
    {
     "name": "stdout",
     "output_type": "stream",
     "text": [
      "(9804, 4) (3268, 4)\n"
     ]
    }
   ],
   "source": [
    "print(x_train.shape,x_test.shape)"
   ]
  },
  {
   "cell_type": "code",
   "execution_count": 16,
   "id": "7d994fe6-9fe9-43bd-9e9c-66db04b9efe4",
   "metadata": {},
   "outputs": [
    {
     "data": {
      "text/html": [
       "<style>#sk-container-id-1 {color: black;}#sk-container-id-1 pre{padding: 0;}#sk-container-id-1 div.sk-toggleable {background-color: white;}#sk-container-id-1 label.sk-toggleable__label {cursor: pointer;display: block;width: 100%;margin-bottom: 0;padding: 0.3em;box-sizing: border-box;text-align: center;}#sk-container-id-1 label.sk-toggleable__label-arrow:before {content: \"▸\";float: left;margin-right: 0.25em;color: #696969;}#sk-container-id-1 label.sk-toggleable__label-arrow:hover:before {color: black;}#sk-container-id-1 div.sk-estimator:hover label.sk-toggleable__label-arrow:before {color: black;}#sk-container-id-1 div.sk-toggleable__content {max-height: 0;max-width: 0;overflow: hidden;text-align: left;background-color: #f0f8ff;}#sk-container-id-1 div.sk-toggleable__content pre {margin: 0.2em;color: black;border-radius: 0.25em;background-color: #f0f8ff;}#sk-container-id-1 input.sk-toggleable__control:checked~div.sk-toggleable__content {max-height: 200px;max-width: 100%;overflow: auto;}#sk-container-id-1 input.sk-toggleable__control:checked~label.sk-toggleable__label-arrow:before {content: \"▾\";}#sk-container-id-1 div.sk-estimator input.sk-toggleable__control:checked~label.sk-toggleable__label {background-color: #d4ebff;}#sk-container-id-1 div.sk-label input.sk-toggleable__control:checked~label.sk-toggleable__label {background-color: #d4ebff;}#sk-container-id-1 input.sk-hidden--visually {border: 0;clip: rect(1px 1px 1px 1px);clip: rect(1px, 1px, 1px, 1px);height: 1px;margin: -1px;overflow: hidden;padding: 0;position: absolute;width: 1px;}#sk-container-id-1 div.sk-estimator {font-family: monospace;background-color: #f0f8ff;border: 1px dotted black;border-radius: 0.25em;box-sizing: border-box;margin-bottom: 0.5em;}#sk-container-id-1 div.sk-estimator:hover {background-color: #d4ebff;}#sk-container-id-1 div.sk-parallel-item::after {content: \"\";width: 100%;border-bottom: 1px solid gray;flex-grow: 1;}#sk-container-id-1 div.sk-label:hover label.sk-toggleable__label {background-color: #d4ebff;}#sk-container-id-1 div.sk-serial::before {content: \"\";position: absolute;border-left: 1px solid gray;box-sizing: border-box;top: 0;bottom: 0;left: 50%;z-index: 0;}#sk-container-id-1 div.sk-serial {display: flex;flex-direction: column;align-items: center;background-color: white;padding-right: 0.2em;padding-left: 0.2em;position: relative;}#sk-container-id-1 div.sk-item {position: relative;z-index: 1;}#sk-container-id-1 div.sk-parallel {display: flex;align-items: stretch;justify-content: center;background-color: white;position: relative;}#sk-container-id-1 div.sk-item::before, #sk-container-id-1 div.sk-parallel-item::before {content: \"\";position: absolute;border-left: 1px solid gray;box-sizing: border-box;top: 0;bottom: 0;left: 50%;z-index: -1;}#sk-container-id-1 div.sk-parallel-item {display: flex;flex-direction: column;z-index: 1;position: relative;background-color: white;}#sk-container-id-1 div.sk-parallel-item:first-child::after {align-self: flex-end;width: 50%;}#sk-container-id-1 div.sk-parallel-item:last-child::after {align-self: flex-start;width: 50%;}#sk-container-id-1 div.sk-parallel-item:only-child::after {width: 0;}#sk-container-id-1 div.sk-dashed-wrapped {border: 1px dashed gray;margin: 0 0.4em 0.5em 0.4em;box-sizing: border-box;padding-bottom: 0.4em;background-color: white;}#sk-container-id-1 div.sk-label label {font-family: monospace;font-weight: bold;display: inline-block;line-height: 1.2em;}#sk-container-id-1 div.sk-label-container {text-align: center;}#sk-container-id-1 div.sk-container {/* jupyter's `normalize.less` sets `[hidden] { display: none; }` but bootstrap.min.css set `[hidden] { display: none !important; }` so we also need the `!important` here to be able to override the default hidden behavior on the sphinx rendered scikit-learn.org. See: https://github.com/scikit-learn/scikit-learn/issues/21755 */display: inline-block !important;position: relative;}#sk-container-id-1 div.sk-text-repr-fallback {display: none;}</style><div id=\"sk-container-id-1\" class=\"sk-top-container\"><div class=\"sk-text-repr-fallback\"><pre>LinearRegression()</pre><b>In a Jupyter environment, please rerun this cell to show the HTML representation or trust the notebook. <br />On GitHub, the HTML representation is unable to render, please try loading this page with nbviewer.org.</b></div><div class=\"sk-container\" hidden><div class=\"sk-item\"><div class=\"sk-estimator sk-toggleable\"><input class=\"sk-toggleable__control sk-hidden--visually\" id=\"sk-estimator-id-1\" type=\"checkbox\" checked><label for=\"sk-estimator-id-1\" class=\"sk-toggleable__label sk-toggleable__label-arrow\">LinearRegression</label><div class=\"sk-toggleable__content\"><pre>LinearRegression()</pre></div></div></div></div></div>"
      ],
      "text/plain": [
       "LinearRegression()"
      ]
     },
     "execution_count": 16,
     "metadata": {},
     "output_type": "execute_result"
    }
   ],
   "source": [
    "# linear regression\n",
    "from sklearn.linear_model import LinearRegression\n",
    "from sklearn.metrics import confusion_matrix,accuracy_score\n",
    "regressor=LinearRegression()\n",
    "regressor.fit(x_train,y_train)"
   ]
  },
  {
   "cell_type": "code",
   "execution_count": 17,
   "id": "de2ad5ff-32e8-49bc-ab5a-76ae4f541b86",
   "metadata": {},
   "outputs": [
    {
     "name": "stdout",
     "output_type": "stream",
     "text": [
      "[-0.43375631 -0.0508646   0.76208525  0.72146386]\n",
      "0.005832938252000375\n"
     ]
    }
   ],
   "source": [
    "# Print regressor\n",
    "print(regressor.coef_)\n",
    "print(regressor.intercept_)"
   ]
  },
  {
   "cell_type": "code",
   "execution_count": 18,
   "id": "d43308be-fb86-40a1-990d-270a08c9d395",
   "metadata": {},
   "outputs": [
    {
     "name": "stdout",
     "output_type": "stream",
     "text": [
      "                 Open  prev_close       High        Low\n",
      "Date                                                   \n",
      "1980-02-11   1.292540    1.292540   1.312815   1.292540\n",
      "1975-06-10   1.159738    1.184068   1.159738   1.135408\n",
      "1992-05-26   8.006146    8.051765   8.006146   7.823670\n",
      "1995-12-15  10.355528   10.355528  10.355528  10.218671\n",
      "1978-03-14   1.789281    1.789281   1.794350   1.769006\n",
      "...               ...         ...        ...        ...\n",
      "2008-07-01   4.710000    4.810000   4.950000   4.410000\n",
      "1980-11-11   0.973207    0.973207   0.973207   0.968138\n",
      "2004-10-22  13.140000   13.060000  13.170000  12.950000\n",
      "2019-11-08   8.900000    8.890000   9.040000   8.820000\n",
      "1979-08-07   1.708181    1.708181   1.723387   1.708181\n",
      "\n",
      "[3268 rows x 4 columns]\n"
     ]
    }
   ],
   "source": [
    "# predicted value\n",
    "predicted=regressor.predict(x_test)\n",
    "print(x_test)"
   ]
  },
  {
   "cell_type": "code",
   "execution_count": 19,
   "id": "c904c040-a141-4021-a7d5-601537235878",
   "metadata": {},
   "outputs": [
    {
     "data": {
      "text/plain": [
       "(3268,)"
      ]
     },
     "execution_count": 19,
     "metadata": {},
     "output_type": "execute_result"
    }
   ],
   "source": [
    "predicted.shape"
   ]
  },
  {
   "cell_type": "code",
   "execution_count": 20,
   "id": "3d12bb23-15ab-4747-b960-c62ca8203fee",
   "metadata": {},
   "outputs": [
    {
     "name": "stdout",
     "output_type": "stream",
     "text": [
      "               Actual  Predicted\n",
      "Date                            \n",
      "1980-02-11   1.312815   1.312439\n",
      "1975-06-10   1.151628   1.145537\n",
      "1992-05-26   7.892098   7.869428\n",
      "1995-12-15  10.309909  10.251524\n",
      "1978-03-14   1.784212   1.782432\n",
      "...               ...        ...\n",
      "2008-07-01   4.710000   4.672159\n",
      "1980-11-11   0.968138   0.974340\n",
      "2004-10-22  12.970000  13.021603\n",
      "2019-11-08   9.040000   8.945777\n",
      "1979-08-07   1.713249   1.723771\n",
      "\n",
      "[3268 rows x 2 columns]\n"
     ]
    }
   ],
   "source": [
    "_df=pd.DataFrame({\"Actual\":y_test,\"Predicted\":predicted})\n",
    "print(_df)"
   ]
  },
  {
   "cell_type": "code",
   "execution_count": 21,
   "id": "1640f772-6182-4a65-88e0-efd31ffa691b",
   "metadata": {},
   "outputs": [
    {
     "name": "stdout",
     "output_type": "stream",
     "text": [
      "(9804, 4) (3268, 4)\n"
     ]
    }
   ],
   "source": [
    "print(x_train.shape,x_test.shape)"
   ]
  },
  {
   "cell_type": "code",
   "execution_count": 22,
   "id": "872f04ad-e85e-4178-af6d-68dc6e1de0c0",
   "metadata": {},
   "outputs": [
    {
     "data": {
      "text/plain": [
       "0.99979422533055"
      ]
     },
     "execution_count": 22,
     "metadata": {},
     "output_type": "execute_result"
    }
   ],
   "source": [
    "regressor.score(x_test,y_test)"
   ]
  },
  {
   "cell_type": "code",
   "execution_count": 23,
   "id": "bcca40e9-4159-4847-bf96-c84c344f7df0",
   "metadata": {},
   "outputs": [
    {
     "name": "stdout",
     "output_type": "stream",
     "text": [
      "Mean Absolute Error  0.059665665750406424\n",
      "Mean Square Error  0.010206094814850734\n",
      "Root Mean Square  0.10102521870726504\n"
     ]
    }
   ],
   "source": [
    "import math\n",
    "print(\"Mean Absolute Error \",metrics.mean_absolute_error(y_test,predicted))\n",
    "print(\"Mean Square Error \",metrics.mean_squared_error(y_test,predicted))\n",
    "print(\"Root Mean Square \",math.sqrt(metrics.mean_squared_error(y_test,predicted)))"
   ]
  },
  {
   "cell_type": "code",
   "execution_count": 24,
   "id": "dfc14f93-e19c-47bc-8048-9c312d7215f0",
   "metadata": {},
   "outputs": [
    {
     "name": "stdout",
     "output_type": "stream",
     "text": [
      "[ 2.16341995  2.16229482  2.13547069 ... 13.55337303 13.41508689\n",
      " 13.23005953]\n"
     ]
    }
   ],
   "source": [
    "predicted=regressor.predict(x)\n",
    "print(predicted)"
   ]
  },
  {
   "cell_type": "code",
   "execution_count": 25,
   "id": "6ffaf921-b736-49b7-b77a-afc0c9748e1a",
   "metadata": {},
   "outputs": [
    {
     "data": {
      "text/plain": [
       "Text(0.5, 1.0, 'Actual vs Predicted')"
      ]
     },
     "execution_count": 25,
     "metadata": {},
     "output_type": "execute_result"
    },
    {
     "data": {
      "image/png": "[encoded data removed]",
      "text/plain": [
       "<Figure size 1500x800 with 1 Axes>"
      ]
     },
     "metadata": {},
     "output_type": "display_data"
    }
   ],
   "source": [
    "# plot\n",
    "plt.figure(figsize=(15,8))\n",
    "plt.plot(y,label=\"Actual\")\n",
    "\n",
    "plt.plot(predicted,label=\"Predicted\")\n",
    "plt.xlabel(\"Index\")\n",
    "plt.ylabel(\"Value\")\n",
    "plt.title(\"Actual vs Predicted\")"
   ]
  },
  {
   "cell_type": "code",
   "execution_count": 26,
   "id": "398aa86e-8dbb-459c-88a3-c4e0dbbde849",
   "metadata": {},
   "outputs": [],
   "source": [
    "# using nsepy"
   ]
  },
  {
   "cell_type": "code",
   "execution_count": 27,
   "id": "d2e0fd4f-4a6d-4b0d-9292-50088f85c96d",
   "metadata": {},
   "outputs": [
    {
     "name": "stdout",
     "output_type": "stream",
     "text": [
      "An error occurred: Exceeded 30 redirects.\n"
     ]
    }
   ],
   "source": [
    "import nsepy as nse\n",
    "from datetime import date\n",
    "\n",
    "try:\n",
    "    # Attempt to retrieve stock price data\n",
    "    stock_price = nse.get_history(symbol='INFY', index=False, start=date(2023, 1, 1), end=date(2023, 3, 15))\n",
    "    print(stock_price)\n",
    "except Exception as e:\n",
    "    print(f\"An error occurred: {e}\")"
   ]
  },
  {
   "cell_type": "code",
   "execution_count": 28,
   "id": "a9b6c083-6742-44e9-ba3c-de95e1571deb",
   "metadata": {},
   "outputs": [
    {
     "name": "stdout",
     "output_type": "stream",
     "text": [
      "                  open        high         low       close    adjclose  \\\n",
      "2023-01-03  130.279999  130.899994  124.169998  125.070000  124.216293   \n",
      "2023-01-04  126.889999  128.660004  125.080002  126.360001  125.497498   \n",
      "2023-01-05  127.129997  127.769997  124.760002  125.019997  124.166641   \n",
      "2023-01-06  126.010002  130.289993  124.889999  129.619995  128.735245   \n",
      "2023-01-09  130.470001  133.410004  129.889999  130.149994  129.261627   \n",
      "...                ...         ...         ...         ...         ...   \n",
      "2024-01-08  182.089996  185.600006  181.500000  185.559998  185.323517   \n",
      "2024-01-09  183.919998  185.149994  182.729996  185.139999  184.904053   \n",
      "2024-01-10  184.350006  186.399994  183.919998  186.190002  185.952713   \n",
      "2024-01-11  186.539993  187.050003  183.619995  185.589996  185.353485   \n",
      "2024-01-12  186.059998  186.740005  185.190002  185.919998  185.683060   \n",
      "\n",
      "               volume ticker  \n",
      "2023-01-03  112117500   AAPL  \n",
      "2023-01-04   89113600   AAPL  \n",
      "2023-01-05   80962700   AAPL  \n",
      "2023-01-06   87754700   AAPL  \n",
      "2023-01-09   70790800   AAPL  \n",
      "...               ...    ...  \n",
      "2024-01-08   59144500   AAPL  \n",
      "2024-01-09   42841800   AAPL  \n",
      "2024-01-10   46792900   AAPL  \n",
      "2024-01-11   49128400   AAPL  \n",
      "2024-01-12   40444700   AAPL  \n",
      "\n",
      "[259 rows x 7 columns]\n"
     ]
    }
   ],
   "source": [
    "from yahoo_fin.stock_info import get_data\n",
    "\n",
    "# Fetch historical data for INFY from Yahoo Finance\n",
    "stock_data = get_data('AAPL', start_date='01-01-2023', end_date='15-01-2024')\n",
    "print(stock_data)"
   ]
  },
  {
   "cell_type": "code",
   "execution_count": 29,
   "id": "541a7fa1-ecf0-4c81-b821-b46670faaf80",
   "metadata": {},
   "outputs": [],
   "source": [
    "# pip install yahoo_fin"
   ]
  },
  {
   "cell_type": "code",
   "execution_count": null,
   "id": "fa79409d-bb8a-4249-9a61-f0f29636666e",
   "metadata": {},
   "outputs": [],
   "source": []
  },
  {
   "cell_type": "code",
   "execution_count": null,
   "id": "50b8ddee-09e1-497b-866a-fd4db9167a7f",
   "metadata": {},
   "outputs": [],
   "source": [
    "# pip install trading-calendars"
   ]
  },
  {
   "cell_type": "code",
   "execution_count": 31,
   "id": "6436345d-cddc-482b-b359-829b59cf2ecd",
   "metadata": {},
   "outputs": [
    {
     "name": "stdout",
     "output_type": "stream",
     "text": [
      "Trading Holidays in 2023:\n",
      "2024-01-14 - Makar Sankranti / Pongal\n",
      "2024-01-26 - Republic Day\n",
      "2024-03-24 - Palm Sunday\n",
      "2024-03-25 - Holi\n",
      "2024-03-29 - Good Friday\n",
      "2024-03-31 - Easter Sunday\n",
      "2024-04-10 - Eid ul-Fitr (estimated)\n",
      "2024-04-11 - Eid ul-Fitr (estimated)\n",
      "2024-05-01 - Labour Day\n",
      "2024-05-19 - Feast of Pentecost\n",
      "2024-06-16 - Eid al-Adha (estimated)\n",
      "2024-06-17 - Eid al-Adha (estimated)\n",
      "2024-07-16 - Day of Ashura (estimated)\n",
      "2024-08-15 - Independence Day\n",
      "2024-09-15 - Mawlid (estimated)\n",
      "2024-10-02 - Gandhi Jayanti\n",
      "2024-11-01 - Diwali\n",
      "2024-12-25 - Christmas Day\n"
     ]
    }
   ],
   "source": [
    "import holidays\n",
    "\n",
    "# Initialize the Indian holiday calendar for the year 2023\n",
    "indian_holidays = holidays.India(years=2024)\n",
    "\n",
    "# Get the list of trading holidays for the year 2023\n",
    "trading_holidays = indian_holidays.items()\n",
    "\n",
    "# Print trading holidays\n",
    "print(\"Trading Holidays in 2023:\")\n",
    "for holiday_date, holiday_name in sorted(trading_holidays):\n",
    "    print(holiday_date, \"-\", holiday_name)\n"
   ]
  },
  {
   "cell_type": "code",
   "execution_count": 7,
   "id": "eb62c42c-1b16-4e40-951a-bf47798e8b87",
   "metadata": {},
   "outputs": [],
   "source": [
    "# pip install holidays"
   ]
  }
 ],
 "metadata": {
  "kernelspec": {
   "display_name": "Python 3 (ipykernel)",
   "language": "python",
   "name": "python3"
  },
  "language_info": {
   "codemirror_mode": {
    "name": "ipython",
    "version": 3
   },
   "file_extension": ".py",
   "mimetype": "text/x-python",
   "name": "python",
   "nbconvert_exporter": "python",
   "pygments_lexer": "ipython3",
   "version": "3.11.5"
  }
 },
 "nbformat": 4,
 "nbformat_minor": 5
}
